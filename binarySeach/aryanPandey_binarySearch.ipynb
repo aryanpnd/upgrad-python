{
 "cells": [
  {
   "cell_type": "code",
   "execution_count": 2,
   "id": "6fcd67d5",
   "metadata": {},
   "outputs": [],
   "source": [
    "import random # Importing"
   ]
  },
  {
   "cell_type": "code",
   "execution_count": null,
   "id": "dd361d5d",
   "metadata": {},
   "outputs": [],
   "source": [
    "# Generate a list of random numbers\n",
    "numbers = []\n",
    "for i in range(0, 51):\n",
    "    num = random.randint(0, 100)\n",
    "    numbers.append(num)"
   ]
  },
  {
   "cell_type": "code",
   "execution_count": null,
   "id": "36c857ca",
   "metadata": {},
   "outputs": [],
   "source": [
    "# Sort the list\n",
    "numbers.sort()"
   ]
  },
  {
   "cell_type": "code",
   "execution_count": null,
   "id": "be5699a4",
   "metadata": {},
   "outputs": [],
   "source": [
    "# implementing binary search algorithm\n",
    "def binary_search(numbers, target):\n",
    "    low = 0\n",
    "    high = len(numbers) - 1\n",
    "    \n",
    "    while low <= high:\n",
    "        mid = (low + high) // 2\n",
    "        if numbers[mid] == target:\n",
    "            return True\n",
    "        elif numbers[mid] < target:\n",
    "            low = mid + 1\n",
    "        else:\n",
    "            high = mid - 1\n",
    "    \n",
    "    return False"
   ]
  },
  {
   "cell_type": "code",
   "execution_count": null,
   "id": "4d1ee42e",
   "metadata": {},
   "outputs": [],
   "source": [
    "## driver code\n",
    "if __name__ == \"__main__\":\n",
    "    target = int(input(\"Enter a number to search: \"))\n",
    "    result = binary_search(numbers, target)\n",
    "\n",
    "    if result:\n",
    "        print(\"Number found in the list.\")\n",
    "    else:\n",
    "        print(\"Number not found in the list.\")\n"
   ]
  }
 ],
 "metadata": {
  "kernelspec": {
   "display_name": "Python 3 (ipykernel)",
   "language": "python",
   "name": "python3"
  },
  "language_info": {
   "codemirror_mode": {
    "name": "ipython",
    "version": 3
   },
   "file_extension": ".py",
   "mimetype": "text/x-python",
   "name": "python",
   "nbconvert_exporter": "python",
   "pygments_lexer": "ipython3",
   "version": "3.9.12"
  }
 },
 "nbformat": 4,
 "nbformat_minor": 5
}
